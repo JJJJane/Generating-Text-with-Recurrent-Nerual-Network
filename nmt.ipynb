{
 "cells": [
  {
   "cell_type": "code",
   "execution_count": 17,
   "metadata": {
    "colab": {
     "base_uri": "https://localhost:8080/",
     "height": 34
    },
    "colab_type": "code",
    "id": "OUlwS2t08EgH",
    "outputId": "f551c7c1-0c54-4755-9baf-225bf450a0a9"
   },
   "outputs": [
    {
     "name": "stderr",
     "output_type": "stream",
     "text": [
      "Using TensorFlow backend.\n"
     ]
    }
   ],
   "source": [
    "import collections\n",
    "import helper\n",
    "import numpy as np\n",
    "from keras.preprocessing.text import Tokenizer\n",
    "from keras.preprocessing.sequence import pad_sequences\n",
    "from keras.models import Model\n",
    "from keras.layers import GRU, Input, Dense, TimeDistributed, Activation, RepeatVector, Bidirectional\n",
    "from keras.layers.embeddings import Embedding\n",
    "from keras.optimizers import Adam\n",
    "from keras.losses import sparse_categorical_crossentropy"
   ]
  },
  {
   "cell_type": "code",
   "execution_count": 0,
   "metadata": {
    "colab": {},
    "colab_type": "code",
    "id": "6qmo6S02DUwi"
   },
   "outputs": [],
   "source": [
    "%load helpers.py\n",
    "%load project_tests.py"
   ]
  },
  {
   "cell_type": "code",
   "execution_count": 2,
   "metadata": {
    "colab": {
     "base_uri": "https://localhost:8080/",
     "height": 34
    },
    "colab_type": "code",
    "id": "vGeVY_b__0_F",
    "outputId": "c1e004d9-3804-4117-c5cc-6a2c272821e1"
   },
   "outputs": [
    {
     "data": {
      "text/plain": [
       "'/device:GPU:0'"
      ]
     },
     "execution_count": 2,
     "metadata": {
      "tags": []
     },
     "output_type": "execute_result"
    }
   ],
   "source": [
    "import tensorflow as tf\n",
    "tf.test.gpu_device_name()"
   ]
  },
  {
   "cell_type": "code",
   "execution_count": 3,
   "metadata": {
    "colab": {
     "base_uri": "https://localhost:8080/",
     "height": 289
    },
    "colab_type": "code",
    "id": "7kO7baesAcYQ",
    "outputId": "06be5b95-a190-417f-b735-1f4ddc5dfd24"
   },
   "outputs": [
    {
     "name": "stdout",
     "output_type": "stream",
     "text": [
      "Mon Feb  4 10:16:00 2019       \n",
      "+-----------------------------------------------------------------------------+\n",
      "| NVIDIA-SMI 396.44                 Driver Version: 396.44                    |\n",
      "|-------------------------------+----------------------+----------------------+\n",
      "| GPU  Name        Persistence-M| Bus-Id        Disp.A | Volatile Uncorr. ECC |\n",
      "| Fan  Temp  Perf  Pwr:Usage/Cap|         Memory-Usage | GPU-Util  Compute M. |\n",
      "|===============================+======================+======================|\n",
      "|   0  Tesla K80           Off  | 00000000:00:04.0 Off |                    0 |\n",
      "| N/A   73C    P0    78W / 149W |    116MiB / 11441MiB |      0%      Default |\n",
      "+-------------------------------+----------------------+----------------------+\n",
      "                                                                               \n",
      "+-----------------------------------------------------------------------------+\n",
      "| Processes:                                                       GPU Memory |\n",
      "|  GPU       PID   Type   Process name                             Usage      |\n",
      "|=============================================================================|\n",
      "+-----------------------------------------------------------------------------+\n"
     ]
    }
   ],
   "source": [
    "!/opt/bin/nvidia-smi"
   ]
  },
  {
   "cell_type": "code",
   "execution_count": 4,
   "metadata": {
    "colab": {
     "base_uri": "https://localhost:8080/",
     "height": 476
    },
    "colab_type": "code",
    "id": "gIzJ9t1YAgen",
    "outputId": "6f2540e2-8e5a-4dd8-a1e4-20570f94c7b9"
   },
   "outputs": [
    {
     "data": {
      "text/plain": [
       "[name: \"/device:CPU:0\"\n",
       " device_type: \"CPU\"\n",
       " memory_limit: 268435456\n",
       " locality {\n",
       " }\n",
       " incarnation: 7455185437140197737, name: \"/device:XLA_CPU:0\"\n",
       " device_type: \"XLA_CPU\"\n",
       " memory_limit: 17179869184\n",
       " locality {\n",
       " }\n",
       " incarnation: 6132996443958781302\n",
       " physical_device_desc: \"device: XLA_CPU device\", name: \"/device:XLA_GPU:0\"\n",
       " device_type: \"XLA_GPU\"\n",
       " memory_limit: 17179869184\n",
       " locality {\n",
       " }\n",
       " incarnation: 14999909693593503829\n",
       " physical_device_desc: \"device: XLA_GPU device\", name: \"/device:GPU:0\"\n",
       " device_type: \"GPU\"\n",
       " memory_limit: 11281553818\n",
       " locality {\n",
       "   bus_id: 1\n",
       "   links {\n",
       "   }\n",
       " }\n",
       " incarnation: 14001893657703756815\n",
       " physical_device_desc: \"device: 0, name: Tesla K80, pci bus id: 0000:00:04.0, compute capability: 3.7\"]"
      ]
     },
     "execution_count": 4,
     "metadata": {
      "tags": []
     },
     "output_type": "execute_result"
    }
   ],
   "source": [
    "from tensorflow.python.client import device_lib\n",
    "device_lib.list_local_devices()"
   ]
  },
  {
   "cell_type": "code",
   "execution_count": 7,
   "metadata": {
    "colab": {
     "base_uri": "https://localhost:8080/",
     "height": 122
    },
    "colab_type": "code",
    "id": "eyuBYl07Av_2",
    "outputId": "f1ce8901-8004-483a-d66f-00f137b2b4a4"
   },
   "outputs": [
    {
     "name": "stdout",
     "output_type": "stream",
     "text": [
      "E: Package 'python-software-properties' has no installation candidate\n",
      "Please, open the following URL in a web browser: https://accounts.google.com/o/oauth2/auth?client_id=32555940559.apps.googleusercontent.com&redirect_uri=urn%3Aietf%3Awg%3Aoauth%3A2.0%3Aoob&scope=https%3A%2F%2Fwww.googleapis.com%2Fauth%2Fdrive&response_type=code&access_type=offline&approval_prompt=force\n",
      "··········\n",
      "Please, open the following URL in a web browser: https://accounts.google.com/o/oauth2/auth?client_id=32555940559.apps.googleusercontent.com&redirect_uri=urn%3Aietf%3Awg%3Aoauth%3A2.0%3Aoob&scope=https%3A%2F%2Fwww.googleapis.com%2Fauth%2Fdrive&response_type=code&access_type=offline&approval_prompt=force\n",
      "Please enter the verification code: Access token retrieved correctly.\n"
     ]
    }
   ],
   "source": [
    "!apt-get install -y -qq software-properties-common python-software-properties module-init-tools\n",
    "!add-apt-repository -y ppa:alessandro-strada/ppa 2>&1 > /dev/null\n",
    "!apt-get update -qq 2>&1 > /dev/null\n",
    "!apt-get -y install -qq google-drive-ocamlfuse fuse\n",
    "from google.colab import auth\n",
    "auth.authenticate_user()\n",
    "from oauth2client.client import GoogleCredentials\n",
    "creds = GoogleCredentials.get_application_default()\n",
    "import getpass\n",
    "!google-drive-ocamlfuse -headless -id={creds.client_id} -secret={creds.client_secret} < /dev/null 2>&1 | grep URL\n",
    "vcode = getpass.getpass()\n",
    "!echo {vcode} | google-drive-ocamlfuse -headless -id={creds.client_id} -secret={creds.client_secret}"
   ]
  },
  {
   "cell_type": "code",
   "execution_count": 0,
   "metadata": {
    "colab": {},
    "colab_type": "code",
    "id": "2fT7lkLkAzVP"
   },
   "outputs": [],
   "source": [
    "!mkdir -p drive\n",
    "!google-drive-ocamlfuse drive"
   ]
  },
  {
   "cell_type": "code",
   "execution_count": 9,
   "metadata": {
    "colab": {
     "base_uri": "https://localhost:8080/",
     "height": 343
    },
    "colab_type": "code",
    "id": "IfZVSLp5A3Gv",
    "outputId": "79674783-122e-4345-a9bf-163ba08ff53b"
   },
   "outputs": [
    {
     "name": "stdout",
     "output_type": "stream",
     "text": [
      "\u001b[?25l\r",
      "\u001b[K    1% |▎                               | 10kB 22.5MB/s eta 0:00:01\r",
      "\u001b[K    2% |▋                               | 20kB 2.3MB/s eta 0:00:01\r",
      "\u001b[K    3% |█                               | 30kB 3.3MB/s eta 0:00:01\r",
      "\u001b[K    4% |█▎                              | 40kB 2.2MB/s eta 0:00:01\r",
      "\u001b[K    5% |█▋                              | 51kB 2.7MB/s eta 0:00:01\r",
      "\u001b[K    6% |██                              | 61kB 3.2MB/s eta 0:00:01\r",
      "\u001b[K    7% |██▎                             | 71kB 3.6MB/s eta 0:00:01\r",
      "\u001b[K    8% |██▋                             | 81kB 4.1MB/s eta 0:00:01\r",
      "\u001b[K    9% |███                             | 92kB 4.6MB/s eta 0:00:01\r",
      "\u001b[K    10% |███▎                            | 102kB 3.5MB/s eta 0:00:01\r",
      "\u001b[K    11% |███▋                            | 112kB 3.5MB/s eta 0:00:01\r",
      "\u001b[K    12% |████                            | 122kB 5.0MB/s eta 0:00:01\r",
      "\u001b[K    13% |████▎                           | 133kB 5.0MB/s eta 0:00:01\r",
      "\u001b[K    14% |████▋                           | 143kB 9.4MB/s eta 0:00:01\r",
      "\u001b[K    15% |█████                           | 153kB 9.4MB/s eta 0:00:01\r",
      "\u001b[K    16% |█████▎                          | 163kB 9.4MB/s eta 0:00:01\r",
      "\u001b[K    17% |█████▋                          | 174kB 9.2MB/s eta 0:00:01\r",
      "\u001b[K    18% |██████                          | 184kB 9.3MB/s eta 0:00:01\r",
      "\u001b[K    19% |██████▎                         | 194kB 9.3MB/s eta 0:00:01\r",
      "\u001b[K    20% |██████▋                         | 204kB 44.2MB/s eta 0:00:01\r",
      "\u001b[K    21% |███████                         | 215kB 10.5MB/s eta 0:00:01\r",
      "\u001b[K    22% |███████▎                        | 225kB 10.5MB/s eta 0:00:01\r",
      "\u001b[K    23% |███████▋                        | 235kB 10.5MB/s eta 0:00:01\r",
      "\u001b[K    24% |████████                        | 245kB 10.4MB/s eta 0:00:01\r",
      "\u001b[K    25% |████████▎                       | 256kB 10.4MB/s eta 0:00:01\r",
      "\u001b[K    26% |████████▋                       | 266kB 10.2MB/s eta 0:00:01\r",
      "\u001b[K    27% |█████████                       | 276kB 10.4MB/s eta 0:00:01\r",
      "\u001b[K    29% |█████████▎                      | 286kB 10.4MB/s eta 0:00:01\r",
      "\u001b[K    30% |█████████▋                      | 296kB 10.3MB/s eta 0:00:01\r",
      "\u001b[K    31% |██████████                      | 307kB 10.5MB/s eta 0:00:01\r",
      "\u001b[K    32% |██████████▎                     | 317kB 43.8MB/s eta 0:00:01\r",
      "\u001b[K    33% |██████████▋                     | 327kB 44.0MB/s eta 0:00:01\r",
      "\u001b[K    34% |███████████                     | 337kB 43.2MB/s eta 0:00:01\r",
      "\u001b[K    35% |███████████▎                    | 348kB 40.0MB/s eta 0:00:01\r",
      "\u001b[K    36% |███████████▋                    | 358kB 40.0MB/s eta 0:00:01\r",
      "\u001b[K    37% |████████████                    | 368kB 44.3MB/s eta 0:00:01\r",
      "\u001b[K    38% |████████████▎                   | 378kB 44.1MB/s eta 0:00:01\r",
      "\u001b[K    39% |████████████▋                   | 389kB 44.8MB/s eta 0:00:01\r",
      "\u001b[K    40% |█████████████                   | 399kB 12.7MB/s eta 0:00:01\r",
      "\u001b[K    41% |█████████████▎                  | 409kB 12.7MB/s eta 0:00:01\r",
      "\u001b[K    42% |█████████████▋                  | 419kB 12.7MB/s eta 0:00:01\r",
      "\u001b[K    43% |██████████████                  | 430kB 12.8MB/s eta 0:00:01\r",
      "\u001b[K    44% |██████████████▎                 | 440kB 12.8MB/s eta 0:00:01\r",
      "\u001b[K    45% |██████████████▋                 | 450kB 13.1MB/s eta 0:00:01\r",
      "\u001b[K    46% |███████████████                 | 460kB 13.1MB/s eta 0:00:01\r",
      "\u001b[K    47% |███████████████▎                | 471kB 13.1MB/s eta 0:00:01\r",
      "\u001b[K    48% |███████████████▋                | 481kB 13.1MB/s eta 0:00:01\r",
      "\u001b[K    49% |████████████████                | 491kB 13.1MB/s eta 0:00:01\r",
      "\u001b[K    50% |████████████████▎               | 501kB 50.7MB/s eta 0:00:01\r",
      "\u001b[K    51% |████████████████▋               | 512kB 48.1MB/s eta 0:00:01\r",
      "\u001b[K    52% |█████████████████               | 522kB 49.1MB/s eta 0:00:01\r",
      "\u001b[K    53% |█████████████████▎              | 532kB 49.5MB/s eta 0:00:01\r",
      "\u001b[K    54% |█████████████████▋              | 542kB 11.2MB/s eta 0:00:01\r",
      "\u001b[K    55% |██████████████████              | 552kB 11.3MB/s eta 0:00:01\r",
      "\u001b[K    57% |██████████████████▎             | 563kB 11.2MB/s eta 0:00:01\r",
      "\u001b[K    58% |██████████████████▋             | 573kB 11.1MB/s eta 0:00:01\r",
      "\u001b[K    59% |███████████████████             | 583kB 11.0MB/s eta 0:00:01\r",
      "\u001b[K    60% |███████████████████▎            | 593kB 11.0MB/s eta 0:00:01\r",
      "\u001b[K    61% |███████████████████▋            | 604kB 11.0MB/s eta 0:00:01\r",
      "\u001b[K    62% |████████████████████            | 614kB 11.2MB/s eta 0:00:01\r",
      "\u001b[K    63% |████████████████████▎           | 624kB 11.1MB/s eta 0:00:01\r",
      "\u001b[K    64% |████████████████████▋           | 634kB 11.1MB/s eta 0:00:01\r",
      "\u001b[K    65% |█████████████████████           | 645kB 47.9MB/s eta 0:00:01\r",
      "\u001b[K    66% |█████████████████████▎          | 655kB 48.6MB/s eta 0:00:01\r",
      "\u001b[K    67% |█████████████████████▋          | 665kB 40.6MB/s eta 0:00:01\r",
      "\u001b[K    68% |██████████████████████          | 675kB 42.0MB/s eta 0:00:01\r",
      "\u001b[K    69% |██████████████████████▎         | 686kB 42.8MB/s eta 0:00:01\r",
      "\u001b[K    70% |██████████████████████▋         | 696kB 43.6MB/s eta 0:00:01\r",
      "\u001b[K    71% |███████████████████████         | 706kB 43.0MB/s eta 0:00:01\r",
      "\u001b[K    72% |███████████████████████▎        | 716kB 43.0MB/s eta 0:00:01\r",
      "\u001b[K    73% |███████████████████████▋        | 727kB 42.1MB/s eta 0:00:01\r",
      "\u001b[K    74% |████████████████████████        | 737kB 42.1MB/s eta 0:00:01\r",
      "\u001b[K    75% |████████████████████████▎       | 747kB 43.6MB/s eta 0:00:01\r",
      "\u001b[K    76% |████████████████████████▋       | 757kB 43.4MB/s eta 0:00:01\r",
      "\u001b[K    77% |████████████████████████▉       | 768kB 53.4MB/s eta 0:00:01\r",
      "\u001b[K    78% |█████████████████████████▏      | 778kB 52.9MB/s eta 0:00:01\r",
      "\u001b[K    79% |█████████████████████████▌      | 788kB 52.3MB/s eta 0:00:01\r",
      "\u001b[K    80% |█████████████████████████▉      | 798kB 52.5MB/s eta 0:00:01\r",
      "\u001b[K    81% |██████████████████████████▏     | 808kB 53.2MB/s eta 0:00:01\r",
      "\u001b[K    82% |██████████████████████████▌     | 819kB 52.9MB/s eta 0:00:01\r",
      "\u001b[K    83% |██████████████████████████▉     | 829kB 54.9MB/s eta 0:00:01\r",
      "\u001b[K    85% |███████████████████████████▏    | 839kB 54.7MB/s eta 0:00:01\r",
      "\u001b[K    86% |███████████████████████████▌    | 849kB 53.8MB/s eta 0:00:01\r",
      "\u001b[K    87% |███████████████████████████▉    | 860kB 48.0MB/s eta 0:00:01\r",
      "\u001b[K    88% |████████████████████████████▏   | 870kB 48.7MB/s eta 0:00:01\r",
      "\u001b[K    89% |████████████████████████████▌   | 880kB 49.8MB/s eta 0:00:01\r",
      "\u001b[K    90% |████████████████████████████▉   | 890kB 49.3MB/s eta 0:00:01\r",
      "\u001b[K    91% |█████████████████████████████▏  | 901kB 48.9MB/s eta 0:00:01\r",
      "\u001b[K    92% |█████████████████████████████▌  | 911kB 48.3MB/s eta 0:00:01\r",
      "\u001b[K    93% |█████████████████████████████▉  | 921kB 48.6MB/s eta 0:00:01\r",
      "\u001b[K    94% |██████████████████████████████▏ | 931kB 48.3MB/s eta 0:00:01\r",
      "\u001b[K    95% |██████████████████████████████▌ | 942kB 47.8MB/s eta 0:00:01\r",
      "\u001b[K    96% |██████████████████████████████▉ | 952kB 47.5MB/s eta 0:00:01\r",
      "\u001b[K    97% |███████████████████████████████▏| 962kB 52.9MB/s eta 0:00:01\r",
      "\u001b[K    98% |███████████████████████████████▌| 972kB 50.7MB/s eta 0:00:01\r",
      "\u001b[K    99% |███████████████████████████████▉| 983kB 49.3MB/s eta 0:00:01\r",
      "\u001b[K    100% |████████████████████████████████| 993kB 18.8MB/s \n",
      "\u001b[?25h  Building wheel for PyDrive (setup.py) ... \u001b[?25ldone\n",
      "\u001b[?25htitle: nmt.ipynb, id: 1Q0xNXu_n6wQoRu6YgHUCROExvtR-ksie, mimeType: application/vnd.google.colaboratory\n",
      "title: small_vocab_fr, id: 14-DuTtlb3S19rdcJOweAryKzrFYivByz, mimeType: application/octet-stream\n",
      "title: small_vocab_en, id: 1twaElSkNcEtwvi2yvqWUeHgINhESk-6L, mimeType: application/octet-stream\n",
      "title: small_vocab_fr, id: 1Ri2cW3ttTFUM2bXN0FN_ZCz5luSvPTt3, mimeType: application/octet-stream\n",
      "title: small_vocab_en, id: 1x_G-m6yNCPnlpiEeWF7EvNzz8qraQJhZ, mimeType: application/octet-stream\n",
      "title: data, id: 1umTdiI_1To6vMR0EqrEt3fVeM-Un6ZHo, mimeType: application/vnd.google-apps.folder\n",
      "title: RNN.ipynb, id: 178ogaT-9YHSHIN7V7xlQKuUYyWWcrb5p, mimeType: application/vnd.google.colaboratory\n",
      "title: vac.txt, id: 1tTlnw5xs89cRLdv_HkEmwVfhnep9ZSll, mimeType: text/plain\n",
      "title: Colab Notebooks, id: 1VlNKj2c4SAh4XxDjXuVzjPdgWtu4AENs, mimeType: application/vnd.google-apps.folder\n",
      "title: Technology, Innovation and Entrepreneurial Impact.xlsx, id: 1ffvOWyJuRLgA0vqM9lpnMDnl_Om-xWgflmd5YbIq5Hw, mimeType: application/vnd.google-apps.spreadsheet\n",
      "title: LaL, id: 1n-bjiDF2CidGLStvJh07pv_Qdt4tNyLjXlKSD_mDwRE, mimeType: application/vnd.google-apps.presentation\n",
      "title: Resume, id: 1BDpqR4fS7wyd3-C7cRmtc9v7HbdbXEDjWrZ7oNSJ5Og, mimeType: application/vnd.google-apps.document\n",
      "title: Untitled form, id: 1XFPiCSU2JQVBPkLk1OJQYUpcBsfXdeE58ddN3pI9d50, mimeType: application/vnd.google-apps.form\n",
      "title: Menu options for Farewell Dinner, id: 17vWMK6xnveeeyIqnN8e0EkX1RAVFogUmV4FLMpRhUM4, mimeType: application/vnd.google-apps.spreadsheet\n",
      "title: IBM group Email list for Start-up weekend, id: 1ZSMlRMuNNexbOL8tx4IHe9yMJOCddLz3zl-bhYMGAJA, mimeType: application/vnd.google-apps.spreadsheet\n",
      "title: Oct-ElCapitan, id: 0B1uQRKrjkUwdVUFYbE1OcUNKbWs, mimeType: application/vnd.google-apps.folder\n"
     ]
    }
   ],
   "source": [
    "!pip install -U -q PyDrive\n",
    "from pydrive.auth import GoogleAuth\n",
    "from pydrive.drive import GoogleDrive\n",
    "from google.colab import auth\n",
    "from oauth2client.client import GoogleCredentials\n",
    "\n",
    "# 授权登录，仅第一次的时候会鉴权\n",
    "auth.authenticate_user()\n",
    "gauth = GoogleAuth()\n",
    "gauth.credentials = GoogleCredentials.get_application_default()\n",
    "drive = GoogleDrive(gauth)\n",
    "file_list = drive.ListFile({'q': \"trashed=false\"}).GetList()\n",
    "for file1 in file_list:\n",
    "  print('title: %s, id: %s, mimeType: %s' % (file1['title'], file1['id'], file1[\"mimeType\"]))"
   ]
  },
  {
   "cell_type": "code",
   "execution_count": 0,
   "metadata": {
    "colab": {},
    "colab_type": "code",
    "id": "qEcwzHrF8i8M"
   },
   "outputs": [],
   "source": [
    "def load_data(path):\n",
    "    \"\"\"\n",
    "    Load dataset\n",
    "    \"\"\"\n",
    "    input_file = os.path.join(path)\n",
    "    with open(input_file, \"r\") as f:\n",
    "        data = f.read()\n",
    "\n",
    "    return data.split('\\n')"
   ]
  },
  {
   "cell_type": "code",
   "execution_count": 13,
   "metadata": {
    "colab": {
     "base_uri": "https://localhost:8080/",
     "height": 34
    },
    "colab_type": "code",
    "id": "21pBzjEv8frB",
    "outputId": "ca965646-f56e-4308-b331-40ff6f5cc890"
   },
   "outputs": [
    {
     "name": "stdout",
     "output_type": "stream",
     "text": [
      "Dataset Loaded\n"
     ]
    }
   ],
   "source": [
    "import os\n",
    "os.chdir(\"drive/Colab Notebooks\")\n",
    "english_sentences = load_data('small_vocab_en')\n",
    "french_sentences = load_data('small_vocab_fr')\n",
    "print('Dataset Loaded')"
   ]
  },
  {
   "cell_type": "code",
   "execution_count": 14,
   "metadata": {
    "colab": {
     "base_uri": "https://localhost:8080/",
     "height": 85
    },
    "colab_type": "code",
    "id": "ytngHdZgBumH",
    "outputId": "71202026-d5d2-44ed-86f2-8ea32c8e0356"
   },
   "outputs": [
    {
     "name": "stdout",
     "output_type": "stream",
     "text": [
      "small_vocab_en Line 1: new jersey is sometimes quiet during autumn , and it is snowy in april .\n",
      "small_vocab_fr Line 1: new jersey est parfois calme pendant l' automne , et il est neigeux en avril .\n",
      "small_vocab_en Line 2: the united states is usually chilly during july , and it is usually freezing in november .\n",
      "small_vocab_fr Line 2: les états-unis est généralement froid en juillet , et il gèle habituellement en novembre .\n"
     ]
    }
   ],
   "source": [
    "for sample_i in range(2):\n",
    "  print('small_vocab_en Line {}: {}'.format(sample_i + 1, english_sentences[sample_i]))\n",
    "  print('small_vocab_fr Line {}: {}'.format(sample_i + 1, french_sentences[sample_i]))"
   ]
  },
  {
   "cell_type": "code",
   "execution_count": 21,
   "metadata": {
    "colab": {
     "base_uri": "https://localhost:8080/",
     "height": 170
    },
    "colab_type": "code",
    "id": "KmBL5wl-CWYh",
    "outputId": "1688be28-f557-482e-d5fc-697f690878ae"
   },
   "outputs": [
    {
     "name": "stdout",
     "output_type": "stream",
     "text": [
      "1823250 English words.\n",
      "227 unique English words.\n",
      "10 Most common words in the English dataset:\n",
      "\"is\" \",\" \".\" \"in\" \"it\" \"during\" \"the\" \"but\" \"and\" \"sometimes\"\n",
      "\n",
      "1961295 French words.\n",
      "355 unique French words.\n",
      "10 Most common words in the French dataset:\n",
      "\"est\" \".\" \",\" \"en\" \"il\" \"les\" \"mais\" \"et\" \"la\" \"parfois\"\n"
     ]
    }
   ],
   "source": [
    "english_words_counter = collections.Counter([word for sentence in english_sentences for word in sentence.split()])\n",
    "french_words_counter = collections.Counter([word for sentence in french_sentences for word in sentence.split()])\n",
    "print('{} English words.'.format(len([word for sentence in english_sentences for word in sentence.split()])))\n",
    "print('{} unique English words.'.format(len(english_words_counter)))\n",
    "print('10 Most common words in the English dataset:')\n",
    "print('\"' + '\" \"'.join(list(zip(*english_words_counter.most_common(10)))[0]) + '\"')\n",
    "print()\n",
    "print('{} French words.'.format(len([word for sentence in french_sentences for word in sentence.split()])))\n",
    "print('{} unique French words.'.format(len(french_words_counter)))\n",
    "print('10 Most common words in the French dataset:')\n",
    "print('\"' + '\" \"'.join(list(zip(*french_words_counter.most_common(10)))[0]) + '\"')"
   ]
  },
  {
   "cell_type": "code",
   "execution_count": 18,
   "metadata": {
    "colab": {
     "base_uri": "https://localhost:8080/",
     "height": 224
    },
    "colab_type": "code",
    "id": "zZt03fj-B03L",
    "outputId": "f19ea707-9e8b-41d7-b8d7-9fa507fa7c4c"
   },
   "outputs": [
    {
     "name": "stdout",
     "output_type": "stream",
     "text": [
      "{'the': 1, 'quick': 2, 'a': 3, 'brown': 4, 'fox': 5, 'jumps': 6, 'over': 7, 'lazy': 8, 'dog': 9, 'by': 10, 'jove': 11, 'my': 12, 'study': 13, 'of': 14, 'lexicography': 15, 'won': 16, 'prize': 17, 'this': 18, 'is': 19, 'short': 20, 'sentence': 21}\n",
      "\n",
      "Sequence 1 in x\n",
      " Input: The quick brown fox jumps over the lazy dog .\n",
      " Output: [1, 2, 4, 5, 6, 7, 1, 8, 9]\n",
      "Sequence 2 in x\n",
      " Input: By Jove , my quick study of lexicography won a prize .\n",
      " Output: [10, 11, 12, 2, 13, 14, 15, 16, 3, 17]\n",
      "Sequence 3 in x\n",
      " Input: This is a short sentence .\n",
      " Output: [18, 19, 3, 20, 21]\n"
     ]
    }
   ],
   "source": [
    "def tokenize(x):\n",
    "  x_tk = Tokenizer(char_level = False)\n",
    "  x_tk.fit_on_texts(x)\n",
    "  return x_tk.texts_to_sequences(x), x_tk\n",
    "text_sentences = [\n",
    " 'The quick brown fox jumps over the lazy dog .',\n",
    " 'By Jove , my quick study of lexicography won a prize .',\n",
    " 'This is a short sentence .']\n",
    "text_tokenized, text_tokenizer = tokenize(text_sentences)\n",
    "print(text_tokenizer.word_index)\n",
    "print()\n",
    "for sample_i, (sent, token_sent) in enumerate(zip(text_sentences, text_tokenized)):\n",
    "  print('Sequence {} in x'.format(sample_i + 1))\n",
    "  print(' Input: {}'.format(sent))\n",
    "  print(' Output: {}'.format(token_sent))"
   ]
  },
  {
   "cell_type": "code",
   "execution_count": 22,
   "metadata": {
    "colab": {
     "base_uri": "https://localhost:8080/",
     "height": 236
    },
    "colab_type": "code",
    "id": "O7oMXnM4CIFY",
    "outputId": "08a567ad-c367-427b-8535-c40543c20177"
   },
   "outputs": [
    {
     "ename": "NameError",
     "evalue": "ignored",
     "output_type": "error",
     "traceback": [
      "\u001b[0;31m---------------------------------------------------------------------------\u001b[0m",
      "\u001b[0;31mNameError\u001b[0m                                 Traceback (most recent call last)",
      "\u001b[0;32m<ipython-input-22-9152abd9013e>\u001b[0m in \u001b[0;36m<module>\u001b[0;34m()\u001b[0m\n\u001b[1;32m      3\u001b[0m     \u001b[0mlength\u001b[0m \u001b[0;34m=\u001b[0m \u001b[0mmax\u001b[0m\u001b[0;34m(\u001b[0m\u001b[0;34m[\u001b[0m\u001b[0mlen\u001b[0m\u001b[0;34m(\u001b[0m\u001b[0msentence\u001b[0m\u001b[0;34m)\u001b[0m \u001b[0;32mfor\u001b[0m \u001b[0msentence\u001b[0m \u001b[0;32min\u001b[0m \u001b[0mx\u001b[0m\u001b[0;34m]\u001b[0m\u001b[0;34m)\u001b[0m\u001b[0;34m\u001b[0m\u001b[0;34m\u001b[0m\u001b[0m\n\u001b[1;32m      4\u001b[0m   \u001b[0;32mreturn\u001b[0m \u001b[0mpad_sequences\u001b[0m\u001b[0;34m(\u001b[0m\u001b[0mx\u001b[0m\u001b[0;34m,\u001b[0m \u001b[0mmaxlen\u001b[0m \u001b[0;34m=\u001b[0m \u001b[0mlength\u001b[0m\u001b[0;34m,\u001b[0m \u001b[0mpadding\u001b[0m \u001b[0;34m=\u001b[0m \u001b[0;34m'post'\u001b[0m\u001b[0;34m)\u001b[0m\u001b[0;34m\u001b[0m\u001b[0;34m\u001b[0m\u001b[0m\n\u001b[0;32m----> 5\u001b[0;31m \u001b[0mtests\u001b[0m\u001b[0;34m.\u001b[0m\u001b[0mtest_pad\u001b[0m\u001b[0;34m(\u001b[0m\u001b[0mpad\u001b[0m\u001b[0;34m)\u001b[0m\u001b[0;34m\u001b[0m\u001b[0;34m\u001b[0m\u001b[0m\n\u001b[0m\u001b[1;32m      6\u001b[0m \u001b[0;31m# Pad Tokenized output\u001b[0m\u001b[0;34m\u001b[0m\u001b[0;34m\u001b[0m\u001b[0;34m\u001b[0m\u001b[0m\n\u001b[1;32m      7\u001b[0m \u001b[0mtest_pad\u001b[0m \u001b[0;34m=\u001b[0m \u001b[0mpad\u001b[0m\u001b[0;34m(\u001b[0m\u001b[0mtext_tokenized\u001b[0m\u001b[0;34m)\u001b[0m\u001b[0;34m\u001b[0m\u001b[0;34m\u001b[0m\u001b[0m\n",
      "\u001b[0;31mNameError\u001b[0m: name 'tests' is not defined"
     ]
    }
   ],
   "source": [
    "def pad(x, length=None):\n",
    "  if length is None:\n",
    "    length = max([len(sentence) for sentence in x])\n",
    "  return pad_sequences(x, maxlen = length, padding = 'post')\n",
    "tests.test_pad(pad)\n",
    "# Pad Tokenized output\n",
    "test_pad = pad(text_tokenized)\n",
    "for sample_i, (token_sent, pad_sent) in enumerate(zip(text_tokenized, test_pad)):\n",
    "  print('Sequence {} in x'.format(sample_i + 1))\n",
    "  print(' Input: {}'.format(np.array(token_sent)))\n",
    "  print(' Output: {}'.format(pad_sent))"
   ]
  },
  {
   "cell_type": "code",
   "execution_count": 26,
   "metadata": {
    "colab": {
     "base_uri": "https://localhost:8080/",
     "height": 102
    },
    "colab_type": "code",
    "id": "8zqjdhn8GxHV",
    "outputId": "b6778ebd-a2ca-4a62-ed85-0f784f8c14db"
   },
   "outputs": [
    {
     "name": "stdout",
     "output_type": "stream",
     "text": [
      "Data Preprocessed\n",
      "Max English sentence length: 15\n",
      "Max French sentence length: 21\n",
      "English vocabulary size: 199\n",
      "French vocabulary size: 344\n"
     ]
    }
   ],
   "source": [
    "def preprocess(x, y):\n",
    "  preprocess_x, x_tk = tokenize(x)\n",
    "  preprocess_y, y_tk = tokenize(y)\n",
    "  preprocess_x = pad(preprocess_x)\n",
    "  preprocess_y = pad(preprocess_y)\n",
    "# Keras's sparse_categorical_crossentropy function requires the labels to be in 3 dimensions\n",
    "  preprocess_y = preprocess_y.reshape(*preprocess_y.shape, 1)\n",
    "  return preprocess_x, preprocess_y, x_tk, y_tk\n",
    "preproc_english_sentences, preproc_french_sentences, english_tokenizer, french_tokenizer =\\\n",
    "preprocess(english_sentences, french_sentences)\n",
    "\n",
    "max_english_sequence_length = preproc_english_sentences.shape[1]\n",
    "max_french_sequence_length = preproc_french_sentences.shape[1]\n",
    "english_vocab_size = len(english_tokenizer.word_index)\n",
    "french_vocab_size = len(french_tokenizer.word_index)\n",
    "print('Data Preprocessed')\n",
    "print(\"Max English sentence length:\", max_english_sequence_length)\n",
    "print(\"Max French sentence length:\", max_french_sequence_length)\n",
    "print(\"English vocabulary size:\", english_vocab_size)\n",
    "print(\"French vocabulary size:\", french_vocab_size)"
   ]
  },
  {
   "cell_type": "code",
   "execution_count": 27,
   "metadata": {
    "colab": {
     "base_uri": "https://localhost:8080/",
     "height": 34
    },
    "colab_type": "code",
    "id": "C-T9LPw9HUHX",
    "outputId": "1f34b1d9-c094-4e1f-fe74-18a64a6b2612"
   },
   "outputs": [
    {
     "name": "stdout",
     "output_type": "stream",
     "text": [
      "`logits_to_text` function loaded.\n"
     ]
    }
   ],
   "source": [
    "def logits_to_text(logits, tokenizer):\n",
    "  index_to_words = {id: word for word, id in tokenizer.word_index.items()}\n",
    "  index_to_words[0] = '<PAD>'\n",
    "  return ' '.join([index_to_words[prediction] for prediction in np.argmax(logits, 1)])\n",
    "print('`logits_to_text` function loaded.')"
   ]
  },
  {
   "cell_type": "code",
   "execution_count": 33,
   "metadata": {
    "colab": {
     "base_uri": "https://localhost:8080/",
     "height": 236
    },
    "colab_type": "code",
    "id": "7gpr2DcXHb5h",
    "outputId": "871a0a65-bd9f-4147-88cf-1f9e272453cc"
   },
   "outputs": [
    {
     "ename": "NameError",
     "evalue": "ignored",
     "output_type": "error",
     "traceback": [
      "\u001b[0;31m---------------------------------------------------------------------------\u001b[0m",
      "\u001b[0;31mNameError\u001b[0m                                 Traceback (most recent call last)",
      "\u001b[0;32m<ipython-input-33-4d6ef9fdf9f8>\u001b[0m in \u001b[0;36m<module>\u001b[0;34m()\u001b[0m\n\u001b[1;32m     12\u001b[0m   metrics = ['accuracy'])\n\u001b[1;32m     13\u001b[0m   \u001b[0;32mreturn\u001b[0m \u001b[0mmodel\u001b[0m\u001b[0;34m\u001b[0m\u001b[0;34m\u001b[0m\u001b[0m\n\u001b[0;32m---> 14\u001b[0;31m \u001b[0mtests\u001b[0m\u001b[0;34m.\u001b[0m\u001b[0mtest_encdec_model\u001b[0m\u001b[0;34m(\u001b[0m\u001b[0mencdec_model\u001b[0m\u001b[0;34m)\u001b[0m\u001b[0;34m\u001b[0m\u001b[0;34m\u001b[0m\u001b[0m\n\u001b[0m\u001b[1;32m     15\u001b[0m \u001b[0mtmp_x\u001b[0m \u001b[0;34m=\u001b[0m \u001b[0mpad\u001b[0m\u001b[0;34m(\u001b[0m\u001b[0mpreproc_english_sentences\u001b[0m\u001b[0;34m)\u001b[0m\u001b[0;34m\u001b[0m\u001b[0;34m\u001b[0m\u001b[0m\n\u001b[1;32m     16\u001b[0m \u001b[0mtmp_x\u001b[0m \u001b[0;34m=\u001b[0m \u001b[0mtmp_x\u001b[0m\u001b[0;34m.\u001b[0m\u001b[0mreshape\u001b[0m\u001b[0;34m(\u001b[0m\u001b[0;34m(\u001b[0m\u001b[0;34m-\u001b[0m\u001b[0;36m1\u001b[0m\u001b[0;34m,\u001b[0m \u001b[0mpreproc_english_sentences\u001b[0m\u001b[0;34m.\u001b[0m\u001b[0mshape\u001b[0m\u001b[0;34m[\u001b[0m\u001b[0;36m1\u001b[0m\u001b[0;34m]\u001b[0m\u001b[0;34m,\u001b[0m \u001b[0;36m1\u001b[0m\u001b[0;34m)\u001b[0m\u001b[0;34m)\u001b[0m\u001b[0;34m\u001b[0m\u001b[0;34m\u001b[0m\u001b[0m\n",
      "\u001b[0;31mNameError\u001b[0m: name 'tests' is not defined"
     ]
    }
   ],
   "source": [
    "def encdec_model(input_shape, output_sequence_length, english_vocab_size, french_vocab_size):\n",
    "\n",
    "  learning_rate = 1e-3\n",
    "  model = Sequential()\n",
    "  model.add(GRU(128, input_shape = input_shape[1:], return_sequences = False))\n",
    "  model.add(RepeatVector(output_sequence_length))\n",
    "  model.add(GRU(128, return_sequences = True))\n",
    "  model.add(TimeDistributed(Dense(french_vocab_size, activation = 'softmax')))\n",
    " \n",
    "  model.compile(loss = sparse_categorical_crossentropy, \n",
    "  optimizer = Adam(learning_rate), \n",
    "  metrics = ['accuracy'])\n",
    "  return model\n",
    "tests.test_encdec_model(encdec_model)\n",
    "tmp_x = pad(preproc_english_sentences)\n",
    "tmp_x = tmp_x.reshape((-1, preproc_english_sentences.shape[1], 1))\n",
    "encodeco_model = encdec_model(\n",
    " tmp_x.shape,\n",
    " preproc_french_sentences.shape[1],\n",
    " len(english_tokenizer.word_index)+1,\n",
    " len(french_tokenizer.word_index)+1)\n",
    "encodeco_model.fit(tmp_x, preproc_french_sentences, batch_size=1024, epochs=20, validation_split=0.2)\n",
    "print(logits_to_text(encodeco_model.predict(tmp_x[:1])[0], french_tokenizer))"
   ]
  },
  {
   "cell_type": "code",
   "execution_count": 0,
   "metadata": {
    "colab": {},
    "colab_type": "code",
    "id": "YLZPsX0gNkkc"
   },
   "outputs": [],
   "source": [
    "def test_model_final(model_final):\n",
    "    input_shape = (137861, 15)\n",
    "    output_sequence_length = 21\n",
    "    english_vocab_size = 199\n",
    "    french_vocab_size = 344\n",
    "\n",
    "    model = model_final(input_shape, output_sequence_length, english_vocab_size, french_vocab_size)\n",
    "    _test_model(model, input_shape, output_sequence_length, french_vocab_size)\n"
   ]
  },
  {
   "cell_type": "code",
   "execution_count": 37,
   "metadata": {
    "colab": {
     "base_uri": "https://localhost:8080/",
     "height": 321
    },
    "colab_type": "code",
    "id": "S7SA8QaiHkV9",
    "outputId": "d03af536-aa2b-488a-aefe-7800785489fb"
   },
   "outputs": [
    {
     "ename": "NameError",
     "evalue": "ignored",
     "output_type": "error",
     "traceback": [
      "\u001b[0;31m---------------------------------------------------------------------------\u001b[0m",
      "\u001b[0;31mNameError\u001b[0m                                 Traceback (most recent call last)",
      "\u001b[0;32m<ipython-input-37-c4133560dcc8>\u001b[0m in \u001b[0;36m<module>\u001b[0;34m()\u001b[0m\n\u001b[1;32m     22\u001b[0m   \u001b[0mprint\u001b[0m\u001b[0;34m(\u001b[0m\u001b[0;34m' '\u001b[0m\u001b[0;34m.\u001b[0m\u001b[0mjoin\u001b[0m\u001b[0;34m(\u001b[0m\u001b[0;34m[\u001b[0m\u001b[0my_id_to_word\u001b[0m\u001b[0;34m[\u001b[0m\u001b[0mnp\u001b[0m\u001b[0;34m.\u001b[0m\u001b[0mmax\u001b[0m\u001b[0;34m(\u001b[0m\u001b[0mx\u001b[0m\u001b[0;34m)\u001b[0m\u001b[0;34m]\u001b[0m \u001b[0;32mfor\u001b[0m \u001b[0mx\u001b[0m \u001b[0;32min\u001b[0m \u001b[0my\u001b[0m\u001b[0;34m[\u001b[0m\u001b[0;36m0\u001b[0m\u001b[0;34m]\u001b[0m\u001b[0;34m]\u001b[0m\u001b[0;34m)\u001b[0m\u001b[0;34m)\u001b[0m\u001b[0;34m\u001b[0m\u001b[0;34m\u001b[0m\u001b[0m\n\u001b[1;32m     23\u001b[0m \u001b[0;34m\u001b[0m\u001b[0m\n\u001b[0;32m---> 24\u001b[0;31m \u001b[0mfinal_predictions\u001b[0m\u001b[0;34m(\u001b[0m\u001b[0mpreproc_english_sentences\u001b[0m\u001b[0;34m,\u001b[0m \u001b[0mpreproc_french_sentences\u001b[0m\u001b[0;34m,\u001b[0m \u001b[0menglish_tokenizer\u001b[0m\u001b[0;34m,\u001b[0m \u001b[0mfrench_tokenizer\u001b[0m\u001b[0;34m)\u001b[0m\u001b[0;34m\u001b[0m\u001b[0;34m\u001b[0m\u001b[0m\n\u001b[0m",
      "\u001b[0;32m<ipython-input-37-c4133560dcc8>\u001b[0m in \u001b[0;36mfinal_predictions\u001b[0;34m(x, y, x_tk, y_tk)\u001b[0m\n\u001b[1;32m      1\u001b[0m \u001b[0;32mdef\u001b[0m \u001b[0mfinal_predictions\u001b[0m\u001b[0;34m(\u001b[0m\u001b[0mx\u001b[0m\u001b[0;34m,\u001b[0m \u001b[0my\u001b[0m\u001b[0;34m,\u001b[0m \u001b[0mx_tk\u001b[0m\u001b[0;34m,\u001b[0m \u001b[0my_tk\u001b[0m\u001b[0;34m)\u001b[0m\u001b[0;34m:\u001b[0m\u001b[0;34m\u001b[0m\u001b[0;34m\u001b[0m\u001b[0m\n\u001b[1;32m      2\u001b[0m   \u001b[0mtmp_X\u001b[0m \u001b[0;34m=\u001b[0m \u001b[0mpad\u001b[0m\u001b[0;34m(\u001b[0m\u001b[0mpreproc_english_sentences\u001b[0m\u001b[0;34m)\u001b[0m\u001b[0;34m\u001b[0m\u001b[0;34m\u001b[0m\u001b[0m\n\u001b[0;32m----> 3\u001b[0;31m   model = model_final(tmp_X.shape,\n\u001b[0m\u001b[1;32m      4\u001b[0m   \u001b[0mpreproc_french_sentences\u001b[0m\u001b[0;34m.\u001b[0m\u001b[0mshape\u001b[0m\u001b[0;34m[\u001b[0m\u001b[0;36m1\u001b[0m\u001b[0;34m]\u001b[0m\u001b[0;34m,\u001b[0m\u001b[0;34m\u001b[0m\u001b[0;34m\u001b[0m\u001b[0m\n\u001b[1;32m      5\u001b[0m   \u001b[0mlen\u001b[0m\u001b[0;34m(\u001b[0m\u001b[0menglish_tokenizer\u001b[0m\u001b[0;34m.\u001b[0m\u001b[0mword_index\u001b[0m\u001b[0;34m)\u001b[0m\u001b[0;34m+\u001b[0m\u001b[0;36m1\u001b[0m\u001b[0;34m,\u001b[0m\u001b[0;34m\u001b[0m\u001b[0;34m\u001b[0m\u001b[0m\n",
      "\u001b[0;31mNameError\u001b[0m: name 'model_final' is not defined"
     ]
    }
   ],
   "source": [
    "def final_predictions(x, y, x_tk, y_tk):\n",
    "  tmp_X = pad(preproc_english_sentences)\n",
    "  model = encdec_model(tmp_X.shape,\n",
    "  preproc_french_sentences.shape[1],\n",
    "  len(english_tokenizer.word_index)+1,\n",
    "  len(french_tokenizer.word_index)+1)\n",
    " \n",
    "  model.fit(tmp_X, preproc_french_sentences, batch_size = 1024, epochs = 17, validation_split = 0.2)\n",
    " \n",
    "  y_id_to_word = {value: key for key, value in y_tk.word_index.items()}\n",
    "  y_id_to_word[0] = '<PAD>'\n",
    "  sentence = 'he saw a old yellow truck'\n",
    "  sentence = [x_tk.word_index[word] for word in sentence.split()]\n",
    "  sentence = pad_sequences([sentence], maxlen=x.shape[-1], padding='post')\n",
    "  sentences = np.array([sentence[0], x[0]])\n",
    "  predictions = model.predict(sentences, len(sentences))\n",
    "  print('Sample 1:')\n",
    "  print(' '.join([y_id_to_word[np.argmax(x)] for x in predictions[0]]))\n",
    "  print('Il a vu un vieux camion jaune')\n",
    "  print('Sample 2:')\n",
    "  print(' '.join([y_id_to_word[np.argmax(x)] for x in predictions[1]]))\n",
    "  print(' '.join([y_id_to_word[np.max(x)] for x in y[0]]))\n",
    "  \n",
    "final_predictions(preproc_english_sentences, preproc_french_sentences, english_tokenizer, french_tokenizer)"
   ]
  }
 ],
 "metadata": {
  "accelerator": "GPU",
  "colab": {
   "collapsed_sections": [],
   "name": "nmt.ipynb",
   "provenance": [],
   "version": "0.3.2"
  },
  "kernelspec": {
   "display_name": "Python 2",
   "language": "python",
   "name": "python2"
  },
  "language_info": {
   "codemirror_mode": {
    "name": "ipython",
    "version": 2
   },
   "file_extension": ".py",
   "mimetype": "text/x-python",
   "name": "python",
   "nbconvert_exporter": "python",
   "pygments_lexer": "ipython2",
   "version": "2.7.15"
  }
 },
 "nbformat": 4,
 "nbformat_minor": 1
}
